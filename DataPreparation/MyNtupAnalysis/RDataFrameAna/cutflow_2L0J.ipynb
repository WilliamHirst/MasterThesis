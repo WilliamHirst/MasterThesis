{
 "cells": [
  {
   "cell_type": "code",
   "execution_count": null,
   "metadata": {},
   "outputs": [],
   "source": [
    "import ROOT as R\n",
    "%jsroot off"
   ]
  },
  {
   "cell_type": "code",
   "execution_count": null,
   "metadata": {},
   "outputs": [],
   "source": [
    "frm_dic = {#'ptllboost':{\"xmin\":0,\"xmax\":1000,\"nbins\":100,\"tit\":\"p_{T,boost}^{ll} [GeV]\"},\n",
    "           #'costhetastar':{\"xmin\":0,\"xmax\":1,\"nbins\":150,\"tit\":\"cos#theta^{*}_{l,l}\"},\n",
    "           #'deltaphill':{\"xmin\":0,\"xmax\":4,\"nbins\":40,\"tit\":\"#Delta#phi_{l,l}\"},\n",
    "           #'deltaphimetl':{\"xmin\":0,\"xmax\":4,\"nbins\":40,\"tit\":\"#Delta#phi_{MET,l}\"},\n",
    "           #'mt2_new':{\"xmin\":0,\"xmax\":200,\"nbins\":20,\"tit\":\"m_{T}^{2}\"},\n",
    "           'n_sg_jet':{\"xmin\":0,\"xmax\":10,\"nbins\":10,\"tit\":\"N_{jets}\"},\n",
    "           #'n_nojvt_jet':{\"xmin\":0,\"xmax\":10,\"nbins\":10,\"tit\":\"N_{jets (no JVT)}\"},\n",
    "           'n_b_jet':{\"xmin\":0,\"xmax\":10,\"nbins\":10,\"tit\":\"N_{b-jets}\"},\n",
    "           #'jetJVT':{\"xmin\":0,\"xmax\":1,\"nbins\":50,\"tit\":\"jet_{JVT}\"},\n",
    "           'jetPt':{\"xmin\":0,\"xmax\":1000,\"nbins\":100,\"tit\":\"jet_{p_{T}}\"},\n",
    "           'jetEta':{\"xmin\":-4,\"xmax\":4,\"nbins\":80,\"tit\":\"jet_{#eta}\"},\n",
    "           'met_Sign':{\"xmin\":0,\"xmax\":20,\"nbins\":40,\"tit\":\"MET sign.\"},\n",
    "           'met_Et':{\"xmin\":0,\"xmax\":1000,\"nbins\":100,\"tit\":\"MET\"}\n",
    "          }"
   ]
  },
  {
   "cell_type": "code",
   "execution_count": null,
   "metadata": {},
   "outputs": [],
   "source": [
    "d = {}\n",
    "rootdir = \"/scratch/eirikgr/ntuples/\"\n",
    "d[\"r21\"] = R.RDataFrame(\"Zjets_NoSys\",rootdir+\"/MC/SUSY2_Bkgs_mc16e/DEC20syst/merged/Zjets_merged_processed.root\")\n",
    "d[\"r22\"] = R.RDataFrame(\"Zjets_NoSys\",rootdir+\"/PHYS_Bkgs_mc16e/JUN16/merged/Zjets_merged_processed.root\")"
   ]
  },
  {
   "cell_type": "code",
   "execution_count": null,
   "metadata": {},
   "outputs": [],
   "source": [
    "weight = 'genWeight*eventWeight*leptonWeight*jvtWeight*bTagWeight*pileupWeight*globalDiLepTrigSF*58450.1'"
   ]
  },
  {
   "cell_type": "code",
   "execution_count": null,
   "metadata": {},
   "outputs": [],
   "source": [
    "dfull = {}\n",
    "for key in d.keys():\n",
    "    dfull[key] = d[key].Define(\"weight\",weight)\n",
    "    dfull[key] = dfull[key].Define(\"baseline_el\",\"lepPt > 9.0 && lepFlavor == 1 && abs(lepEta) < 2.47 && abs(lepEta) < 2.47 && lepLoose && lepPassBL && abs(lepZ0SinTheta) < 0.5\")\n",
    "    dfull[key] = dfull[key].Define(\"baseline_mu\",\"lepPt > 9.0 && lepFlavor == 2 && abs(lepEta) < 2.6 && lepMedium && abs(lepZ0SinTheta) < 0.5\")\n",
    "    dfull[key] = dfull[key].Define(\"signal_el\",\"baseline_el && lepPt > 9 && lepTight && lepIsoFCLoose && abs(lepD0Sig) < 5\")\n",
    "    dfull[key] = dfull[key].Define(\"signal_mu\",\"baseline_mu && lepPt > 9 && lepIsoFCLoose && abs(lepD0Sig) < 3\")\n",
    "    dfull[key] = dfull[key].Define(\"signal_jet\",\"jetPt > 60 && abs(jetEta) < 2.4 && ((jetPt < 60 && jetJVT > 0.5) || jetPt >= 60)\")\n",
    "    dfull[key] = dfull[key].Define(\"signal_jet_noJVT\",\"jetPt > 20 && abs(jetEta) < 2.4\")\n",
    "    dfull[key] = dfull[key].Define(\"b_jet\",\"jetPt > 20 && abs(jetEta) < 2.4 && jetMV2c10 > 0.11\")\n",
    "    dfull[key] = dfull[key].Define(\"signal_lep\",\"signal_el || signal_mu\")\n"
   ]
  },
  {
   "cell_type": "code",
   "execution_count": null,
   "metadata": {},
   "outputs": [],
   "source": [
    "col = d[\"r22\"].GetColumnNames()\n",
    "for c in col:\n",
    "    print(c)"
   ]
  },
  {
   "cell_type": "code",
   "execution_count": null,
   "metadata": {},
   "outputs": [],
   "source": [
    "for key in d.keys():\n",
    "    dfull[key] = dfull[key].Define(\"n_bl_lep\",\"Sum(baseline_mu)+Sum(baseline_el)\")\n",
    "    dfull[key] = dfull[key].Define(\"n_sg_lep\",\"Sum(signal_lep)\")\n",
    "    dfull[key] = dfull[key].Define(\"n_sg_jet\",\"Sum(signal_jet)\")\n",
    "    dfull[key] = dfull[key].Define(\"n_b_jet\",\"Sum(b_jet)\")\n",
    "    dfull[key] = dfull[key].Define(\"n_nojvt_jet\",\"Sum(signal_jet_noJVT)\")\n",
    "    "
   ]
  },
  {
   "cell_type": "code",
   "execution_count": null,
   "metadata": {},
   "outputs": [],
   "source": [
    "#cols = R.vector('string')()\n",
    "#cols.push_back('beamSpotWeight')\n",
    "#p = dfull['r22'].Display(cols)\n",
    "#p.Print()"
   ]
  },
  {
   "cell_type": "code",
   "execution_count": null,
   "metadata": {},
   "outputs": [],
   "source": [
    "var = \"n_sg_jet\"\n",
    "hist = {}\n",
    "for key in dfull.keys():\n",
    "    hist[key] = dfull[key].Histo1D((\"h_%s\"%var,\"\",frm_dic[var]['nbins'],frm_dic[var]['xmin'],frm_dic[var]['xmax']),var,\"weight\")"
   ]
  },
  {
   "cell_type": "code",
   "execution_count": null,
   "metadata": {},
   "outputs": [],
   "source": [
    "c = R.TCanvas()\n",
    "c.Draw()\n",
    "hist[\"r22\"].Draw(\"hist\")"
   ]
  },
  {
   "cell_type": "code",
   "execution_count": null,
   "metadata": {},
   "outputs": [],
   "source": [
    "R.gInterpreter.Declare(\n",
    "\"\"\"\n",
    "using Vec_t = const ROOT::VecOps::RVec<int>;\n",
    "bool isOS(Vec_t& chlep) {\n",
    "    if(chlep[0]*chlep[1] < 0)return kTRUE;\n",
    "    return kFALSE;\n",
    "}\n",
    "\"\"\")"
   ]
  },
  {
   "cell_type": "code",
   "execution_count": null,
   "metadata": {},
   "outputs": [],
   "source": [
    "R.gInterpreter.Declare(\n",
    "\"\"\"\n",
    "using Vec_t = const ROOT::VecOps::RVec<int>;\n",
    "bool isSF(Vec_t& fllep) {\n",
    "    if(fllep[0] == fllep[1])return kTRUE;\n",
    "    return kFALSE;\n",
    "}\n",
    "\"\"\")"
   ]
  },
  {
   "cell_type": "code",
   "execution_count": null,
   "metadata": {},
   "outputs": [],
   "source": [
    "R.gInterpreter.Declare(\n",
    "\"\"\"\n",
    "using Vec2_t = const ROOT::VecOps::RVec<float>;\n",
    "float ComputeInvariantMass(Vec2_t& pt, Vec2_t& eta, Vec2_t& phi, Vec2_t& e) {\n",
    "    ROOT::Math::PtEtaPhiMVector p1(pt[0], eta[0], phi[0], e[0]);\n",
    "    ROOT::Math::PtEtaPhiMVector p2(pt[1], eta[1], phi[1], e[1]);\n",
    "    return (p1 + p2).mass();\n",
    "}\n",
    "\"\"\")"
   ]
  },
  {
   "cell_type": "code",
   "execution_count": null,
   "metadata": {},
   "outputs": [],
   "source": [
    "R.gInterpreter.AddIncludePath(\"../NTUPana_SusysSkim/CalcGenericMT2/CalcGenericMT2/\");\n",
    "R.gInterpreter.Declare(\n",
    "\"\"\"\n",
    "#include \"MT2_ROOT.h\"\n",
    "using Vec2_t = const ROOT::VecOps::RVec<float>;\n",
    "float calcMT2(Vec2_t& pt, Vec2_t& eta, Vec2_t& phi, Vec2_t& e, Float_t met_et, Float_t met_phi) {\n",
    "\n",
    "    TLorentzVector p1;\n",
    "    TLorentzVector p2;\n",
    "    TLorentzVector met;\n",
    "    p1.SetPtEtaPhiM(pt[0], eta[0], phi[0], e[0]);\n",
    "    p2.SetPtEtaPhiM(pt[1], eta[1], phi[1], e[1]);\n",
    "    met.SetPtEtaPhiM(met_et, 0.0, met_phi, 0.0);\n",
    "    return ComputeMT2(p1,p2,met,0.,0.).Compute();\n",
    "}\n",
    "\"\"\")\n"
   ]
  },
  {
   "cell_type": "code",
   "execution_count": null,
   "metadata": {},
   "outputs": [],
   "source": [
    "R.gInterpreter.Declare(\n",
    "\"\"\"\n",
    "using Vec2_t = const ROOT::VecOps::RVec<float>;\n",
    "float ptllboost(Vec2_t& pt, Vec2_t& eta, Vec2_t& phi, Vec2_t& e, Float_t met_et, Float_t met_phi) {\n",
    "\n",
    "    TLorentzVector p1;\n",
    "    TLorentzVector p2;\n",
    "    TLorentzVector met;\n",
    "    p1.SetPtEtaPhiM(pt[0], eta[0], phi[0], e[0]);\n",
    "    p2.SetPtEtaPhiM(pt[1], eta[1], phi[1], e[1]);\n",
    "    met.SetPtEtaPhiM(met_et, 0.0, met_phi, 0.0);\n",
    "    return (met+p1+p2).Pt();\n",
    "}\n",
    "\"\"\")"
   ]
  },
  {
   "cell_type": "code",
   "execution_count": null,
   "metadata": {},
   "outputs": [],
   "source": [
    "R.gInterpreter.Declare(\n",
    "\"\"\"\n",
    "using Vec2_t = const ROOT::VecOps::RVec<float>;\n",
    "float costhetastar(Vec2_t& pt, Vec2_t& eta, Vec2_t& phi, Vec2_t& e) {\n",
    "\n",
    "    TLorentzVector p1;\n",
    "    TLorentzVector p2;\n",
    "    p1.SetPtEtaPhiM(pt[0], eta[0], phi[0], e[0]);\n",
    "    p2.SetPtEtaPhiM(pt[1], eta[1], phi[1], e[1]);\n",
    "    return TMath::ATan(fabs(p1.Eta()-p2.Eta())/2.);\n",
    "}\n",
    "\"\"\")\n"
   ]
  },
  {
   "cell_type": "code",
   "execution_count": null,
   "metadata": {},
   "outputs": [],
   "source": [
    "R.gInterpreter.Declare(\n",
    "\"\"\"\n",
    "using Vec2_t = const ROOT::VecOps::RVec<float>;\n",
    "float deltaPhi_ll(Vec2_t& pt, Vec2_t& eta, Vec2_t& phi, Vec2_t& e) {\n",
    "\n",
    "    TLorentzVector p1;\n",
    "    TLorentzVector p2;\n",
    "    p1.SetPtEtaPhiM(pt[0], eta[0], phi[0], e[0]);\n",
    "    p2.SetPtEtaPhiM(pt[1], eta[1], phi[1], e[1]);\n",
    "    return p1.DeltaPhi(p2);\n",
    "}\n",
    "\"\"\")"
   ]
  },
  {
   "cell_type": "code",
   "execution_count": null,
   "metadata": {},
   "outputs": [],
   "source": [
    "R.gInterpreter.Declare(\n",
    "\"\"\"\n",
    "using Vec2_t = const ROOT::VecOps::RVec<float>;\n",
    "float deltaPhi_metl(Vec2_t& pt, Vec2_t& eta, Vec2_t& phi, Vec2_t& e, Float_t met_et, Float_t met_phi) {\n",
    "\n",
    "    TLorentzVector p1;\n",
    "    TLorentzVector p2;\n",
    "    TLorentzVector met;\n",
    "    p1.SetPtEtaPhiM(pt[0], eta[0], phi[0], e[0]);\n",
    "    p2.SetPtEtaPhiM(pt[1], eta[1], phi[1], e[1]);\n",
    "    met.SetPtEtaPhiM(met_et, 0.0, met_phi, 0.0);\n",
    "    \n",
    "    if(p1.Pt() > p2.Pt()){\n",
    "        return p1.DeltaPhi(met);\n",
    "    }else{\n",
    "        return p2.DeltaPhi(met);\n",
    "    }\n",
    "}\n",
    "\"\"\")"
   ]
  },
  {
   "cell_type": "code",
   "execution_count": null,
   "metadata": {},
   "outputs": [],
   "source": [
    "R.gInterpreter.Declare(\n",
    "\"\"\"\n",
    "using Vec2_t = const ROOT::VecOps::RVec<float>;\n",
    "bool checkPt(Vec2_t& pt, float cut1, float cut2){\n",
    "    if((pt[0] > cut1 && pt[1] > cut2) || (pt[1] > cut1 && pt[0] > cut2))return kTRUE;\n",
    "    return kFALSE;\n",
    "}\n",
    "\"\"\")"
   ]
  },
  {
   "cell_type": "code",
   "execution_count": null,
   "metadata": {},
   "outputs": [],
   "source": [
    "for key in d.keys():\n",
    "    dfull[key] = dfull[key].Filter(\"(n_bl_lep == 2)\",\"2 baseline leptons\")\n",
    "    dfull[key] = dfull[key].Filter(\"(n_sg_lep == 2)\",\"2 signal leptons\")"
   ]
  },
  {
   "cell_type": "code",
   "execution_count": null,
   "metadata": {},
   "outputs": [],
   "source": [
    "for key in d.keys():\n",
    "    dfull[key] = dfull[key].Filter(\"checkPt(lepPt[signal_lep],27,9)\",\"pT > 27/9 GeV\")"
   ]
  },
  {
   "cell_type": "code",
   "execution_count": null,
   "metadata": {},
   "outputs": [],
   "source": [
    "for key in d.keys():\n",
    "    dfull[key] = dfull[key].Define(\"isOS\",\"isOS(lepCharge[signal_lep])\")\n",
    "    dfull[key] = dfull[key].Define(\"isSF\",\"isSF(lepFlavor[signal_lep])\")"
   ]
  },
  {
   "cell_type": "code",
   "execution_count": null,
   "metadata": {},
   "outputs": [],
   "source": [
    "for key in d.keys():\n",
    "    dfull[key] = dfull[key].Filter(\"trigMatch_1LTrigOR\",\"matched to trigger\")\n",
    "    #dfull[key] = dfull[key].Filter(\"isSF\",\"Same flavour\")\n",
    "    dfull[key] = dfull[key].Filter(\"isOS\",\"Opposite sign\")"
   ]
  },
  {
   "cell_type": "code",
   "execution_count": null,
   "metadata": {},
   "outputs": [],
   "source": [
    "for key in d.keys():\n",
    "    dfull[key] = dfull[key].Define(\"mll_new\",\"ComputeInvariantMass(lepPt[signal_lep],lepEta[signal_lep],lepPhi[signal_lep],lepM[signal_lep])\")"
   ]
  },
  {
   "cell_type": "code",
   "execution_count": null,
   "metadata": {},
   "outputs": [],
   "source": [
    "for key in d.keys():\n",
    "    dfull[key] = dfull[key].Filter(\"mll_new > 11\",\"mll > 11 GeV\")"
   ]
  },
  {
   "cell_type": "code",
   "execution_count": null,
   "metadata": {},
   "outputs": [],
   "source": [
    "for key in d.keys():\n",
    "    dfull[key] = dfull[key].Filter(\"n_sg_jet < 2\",\"N(jet) < 2\")\n",
    "    dfull[key] = dfull[key].Filter(\"n_b_jet == 0\",\"N(bjet) == 0\")\n",
    "    dfull[key] = dfull[key].Filter(\"met_Sign > 3\",\"MET sign. > 3\")\n",
    "    dfull[key] = dfull[key].Filter(\"((isSF && abs(mll_new-91.1876) > 15) || !isSF)\",\"Z-veto (only SF)\")"
   ]
  },
  {
   "cell_type": "code",
   "execution_count": null,
   "metadata": {},
   "outputs": [],
   "source": [
    "for key in d.keys():\n",
    "    dfull[key] = dfull[key].Define(\"ptllboost\",\"ptllboost(lepPt[signal_lep],lepEta[signal_lep],lepPhi[signal_lep],lepM[signal_lep],met_Et,met_Phi)\")\n",
    "    dfull[key] = dfull[key].Define(\"costhetastar\",\"costhetastar(lepPt[signal_lep],lepEta[signal_lep],lepPhi[signal_lep],lepM[signal_lep])\")\n",
    "    dfull[key] = dfull[key].Define(\"deltaphill\",\"deltaPhi_ll(lepPt[signal_lep],lepEta[signal_lep],lepPhi[signal_lep],lepM[signal_lep])\")\n",
    "    dfull[key] = dfull[key].Define(\"deltaphimetl\",\"deltaPhi_metl(lepPt[signal_lep],lepEta[signal_lep],lepPhi[signal_lep],lepM[signal_lep],met_Et,met_Phi)\")\n",
    "    dfull[key] = dfull[key].Define(\"mt2_new\",\"calcMT2(lepPt[signal_lep],lepEta[signal_lep],lepPhi[signal_lep],lepM[signal_lep],met_Et,met_Phi)\")"
   ]
  },
  {
   "cell_type": "code",
   "execution_count": null,
   "metadata": {},
   "outputs": [],
   "source": [
    "presel = {}\n",
    "for key in d.keys():\n",
    "    presel[key] = dfull[key]"
   ]
  },
  {
   "cell_type": "code",
   "execution_count": null,
   "metadata": {},
   "outputs": [],
   "source": [
    "def convertRDFCutflowToTex(cutflow1,cutflow2):\n",
    "    i = 0\n",
    "    tabstr = \"\"\n",
    "    for c in cutflow1:\n",
    "        cname = c.GetName()\n",
    "        c2 = cutflow2.At(cname)\n",
    "        if i == 0:\n",
    "            nevc1 = c.GetAll()\n",
    "            nevc2 = c2.GetAll()\n",
    "        cname = cname.replace(\">\",\"$>$\")\n",
    "        cname = cname.replace(\"<\",\"$<$\")\n",
    "        tabstr += \"%-30s & $%.0f$ & $%.0f$ & $%.2f$ & $%.2f$ & $%.0f$ & $%.0f$ & $%.2f$ & $%.2f$ \\\\\\ \\n\"%(cname,c.GetPass(),c.GetAll(),c.GetEff(),(c.GetPass()/nevc1)*100.,c2.GetPass(),c2.GetAll(),c2.GetEff(),(c2.GetPass()/nevc2)*100.)\n",
    "        i += 1\n",
    "    print(tabstr)\n",
    "    "
   ]
  },
  {
   "cell_type": "markdown",
   "metadata": {},
   "source": [
    "# Direct Slepton Signal regions"
   ]
  },
  {
   "cell_type": "code",
   "execution_count": null,
   "metadata": {},
   "outputs": [],
   "source": [
    "for key in d.keys():\n",
    "    dfull[key] = dfull[key].Filter(\"n_sg_jet == 0\",\"jet-veto\")\n",
    "    dfull[key] = dfull[key].Filter(\"checkPt(lepPt[signal_lep],140,20)\",\"pT > 140/20 GeV\")\n",
    "    dfull[key] = dfull[key].Filter(\"met_Sign > 7\",\"MET sign. > 7\")\n",
    "    dfull[key] = dfull[key].Filter(\"ptllboost < 5\",\"p_{T,boost}^{ll} < 5 GeV\")\n",
    "    dfull[key] = dfull[key].Filter(\"costhetastar < 0.2\",\"cos#theta^{*}_{ll} < 0.2\")\n",
    "    dfull[key] = dfull[key].Filter(\"deltaphill > 2.2\",\"#Delta#phi_{l,l} > 2.2\")\n",
    "    dfull[key] = dfull[key].Filter(\"deltaphimetl > 2.2\",\"#Delta#phi_{MET,l} > 2.2\")"
   ]
  },
  {
   "cell_type": "code",
   "execution_count": null,
   "metadata": {},
   "outputs": [],
   "source": [
    "allcuts = {}\n",
    "for key in d.keys():\n",
    "    allcuts[key] = dfull[key].Report()"
   ]
  },
  {
   "cell_type": "code",
   "execution_count": null,
   "metadata": {},
   "outputs": [],
   "source": [
    "print(\"RELEASE 22\")\n",
    "convertRDFCutflowToTex(allcuts['r22'],allcuts['r21'])\n",
    "allcuts['r22'].Print()"
   ]
  },
  {
   "cell_type": "code",
   "execution_count": null,
   "metadata": {},
   "outputs": [],
   "source": [
    "print(\"RELEASE 21\")\n",
    "allcuts['r21'].Print()"
   ]
  },
  {
   "cell_type": "code",
   "execution_count": null,
   "metadata": {},
   "outputs": [],
   "source": []
  },
  {
   "cell_type": "code",
   "execution_count": null,
   "metadata": {},
   "outputs": [],
   "source": [
    "h = {\"r21\":{},\"r22\":{}}\n",
    "for key in d.keys():\n",
    "    for var in frm_dic.keys():\n",
    "        #if not \"jet\" in var: continue# and not \"met\" in var: continue\n",
    "        h[key][var] = presel[key].Histo1D((\"h_%s\"%var,\"\",frm_dic[var]['nbins'],frm_dic[var]['xmin'],frm_dic[var]['xmax']),var,\"weight\")\n",
    "        h[key][var].SetLineColor(R.kPink+5 if key == 'r22' else R.kTeal+5)\n",
    "        h[key][var].SetFillColor(R.kPink+5 if key == 'r22' else R.kTeal+5)\n",
    "        h[key][var].SetFillStyle(3004 if key == 'r22' else 3005)\n",
    "        h[key][var].SetLineWidth(2)"
   ]
  },
  {
   "cell_type": "code",
   "execution_count": null,
   "metadata": {},
   "outputs": [],
   "source": [
    "cols = R.vector('string')()\n",
    "cols.push_back('ptllboost')\n",
    "cols.push_back('costhetastar')\n",
    "cols.push_back('deltaphill')\n",
    "cols.push_back('deltaphimetl')\n",
    "p = dfull['r22'].Display(cols)"
   ]
  },
  {
   "cell_type": "code",
   "execution_count": null,
   "metadata": {},
   "outputs": [],
   "source": [
    "p.Print()"
   ]
  },
  {
   "cell_type": "code",
   "execution_count": null,
   "metadata": {},
   "outputs": [],
   "source": [
    "def customise_gPad(top=0.03, bot=0.15, left=0.17, right=0.08):\n",
    "\n",
    "    R.gPad.Update()\n",
    "\n",
    "    R.gStyle.SetTitleFontSize(0.0)\n",
    "\n",
    "    # gPad margins\n",
    "    R.gPad.SetTopMargin(top)\n",
    "    R.gPad.SetBottomMargin(bot)\n",
    "    R.gPad.SetLeftMargin(left)\n",
    "    R.gPad.SetRightMargin(right)\n",
    "    \n",
    "    R.gStyle.SetOptStat(0) # Hide usual stats box\n",
    "    \n",
    "    R.gPad.Update()"
   ]
  },
  {
   "cell_type": "code",
   "execution_count": null,
   "metadata": {},
   "outputs": [],
   "source": [
    "def customise_axes(hist, xtitle, ytitle, scaleFactor=1.1, IsLogY=False, enlargeYaxis=False, scaling=False):\n",
    "\n",
    "    # Set a universal text size\n",
    "    text_size = 45\n",
    "\n",
    "    R.TGaxis.SetMaxDigits(4)\n",
    "\n",
    "    ##################################\n",
    "    # X axis\n",
    "    xax = hist.GetXaxis()\n",
    "\n",
    "    # Precision 3 Helvetica (specify label size in pixels)\n",
    "    xax.SetLabelFont(43)\n",
    "    xax.SetTitleFont(43)\n",
    "    # xax.SetTitleFont(13) # times\n",
    "    \n",
    "    xax.SetTitle(xtitle)\n",
    "    xax.SetTitleSize(text_size)\n",
    "\n",
    "    # Top panel\n",
    "    if 'Events' in ytitle:\n",
    "        xax.SetLabelSize(0)\n",
    "        xax.SetLabelOffset(0.02)\n",
    "        xax.SetTitleOffset(2.0)\n",
    "        xax.SetTickSize(0.04)\n",
    "    # Bottom panel\n",
    "    else:\n",
    "        xax.SetLabelSize(text_size - 7)\n",
    "        xax.SetLabelOffset(0.03)\n",
    "        xax.SetTitleOffset(3.5)\n",
    "        xax.SetTickSize(0.08)\n",
    "\n",
    "    # xax.SetRangeUser(0,2000)\n",
    "    # xax.SetNdivisions(-505)\n",
    "\n",
    "    R.gPad.SetTickx()\n",
    "\n",
    "    ##################################\n",
    "    # Y axis\n",
    "    yax = hist.GetYaxis()\n",
    "\n",
    "    # Precision 3 Helvetica (specify label size in pixels)\n",
    "    yax.SetLabelFont(43)\n",
    "    yax.SetTitleFont(43)\n",
    "\n",
    "    yax.SetTitle(ytitle)\n",
    "    yax.SetTitleSize(text_size)\n",
    "    yax.SetTitleOffset(1.8)\n",
    "    \n",
    "    yax.SetLabelOffset(0.015)\n",
    "    yax.SetLabelSize(text_size - 7)\n",
    "    \n",
    "    ymax = hist.GetMaximum()\n",
    "    ymin = hist.GetMinimum()\n",
    "\n",
    "    # if ymin == 0.0:\n",
    "    #     print 'ymin = 0.0'\n",
    "\n",
    "    # Top events panel\n",
    "    if 'Events' in ytitle:\n",
    "        yax.SetNdivisions(505)\n",
    "        if IsLogY:\n",
    "            if enlargeYaxis:\n",
    "                ymax = 2 * 10 ** 10\n",
    "                ymin = 0.00001\n",
    "            else:\n",
    "                # ymax = 3 * 10 ** 4\n",
    "                # ymin = 0.5\n",
    "                ymax = 3 * 10 ** 3\n",
    "                ymin = 0.00001\n",
    "            #if scaling:\n",
    "            #    hist.SetMaximum(1.0)\n",
    "            #else:\n",
    "            hist.SetMaximum(ymax)\n",
    "            hist.SetMinimum(ymin)\n",
    "        else:\n",
    "            #if scaling:\n",
    "            #    hist.SetMaximum(1.0)\n",
    "            #else:\n",
    "            hist.SetMaximum(ymax*scaleFactor)\n",
    "            hist.SetMinimum(0.0)\n",
    "    # Bottom panel\n",
    "    elif 'Ratio' in ytitle:\n",
    "        yax.SetNdivisions(505)\n",
    "        # Dynamic \n",
    "        if ymax*scaleFactor > 5:\n",
    "            hist.SetMaximum(5)\n",
    "        else: hist.SetMaximum(ymax*scaleFactor)\n",
    "        if ymin*0.9 < -1:\n",
    "            hist.SetMinimum(-2)#ymin*0.9)\n",
    "        else: hist.SetMinimum(ymin*0.9)\n",
    "        # Fixed\n",
    "        #hist.SetMinimum(-0.5) \n",
    "        #hist.SetMaximum(2.5)  \n",
    "\n",
    "    R.gPad.SetTicky()\n",
    "\n",
    "    R.gPad.Update()"
   ]
  },
  {
   "cell_type": "code",
   "execution_count": null,
   "metadata": {},
   "outputs": [],
   "source": []
  },
  {
   "cell_type": "code",
   "execution_count": null,
   "metadata": {},
   "outputs": [],
   "source": [
    "h[\"r21\"]['ptllboost'].GetValue()"
   ]
  },
  {
   "cell_type": "code",
   "execution_count": null,
   "metadata": {},
   "outputs": [],
   "source": [
    "print(frm_dic.keys())"
   ]
  },
  {
   "cell_type": "code",
   "execution_count": null,
   "metadata": {},
   "outputs": [],
   "source": [
    "var = \"jetEta\"#\"ptllboost\"\n"
   ]
  },
  {
   "cell_type": "code",
   "execution_count": null,
   "metadata": {},
   "outputs": [],
   "source": [
    "h3 = {}\n",
    "for var in h['r21'].keys():\n",
    "    \n",
    "    xtitle = frm_dic[var]['tit']\n",
    "    ytitle = \"Events\"\n",
    "    IsLogY = False\n",
    "    enlargeYaxis = False\n",
    "    scaling = True\n",
    "    uselogY = True\n",
    "    \n",
    "    filepre = \"presel_ptjet60\"\n",
    "    \n",
    "    if scaling:\n",
    "        integral1 = h[\"r21\"][var].Integral()\n",
    "        scale1 = 1. / integral1\n",
    "        h[\"r21\"][var].Scale(scale1) \n",
    "\n",
    "        integral2 = h[\"r22\"][var].Integral()\n",
    "        scale2 = 1. / integral2\n",
    "        h[\"r22\"][var].Scale(scale2) \n",
    "\n",
    "    # Third histogram (ratio)\n",
    "    h3[var] = h[\"r22\"][var].GetValue().Clone(\"h3_%s\"%var)\n",
    "    h3[var].Sumw2() #\n",
    "    h3[var].Divide(h[\"r21\"][var].GetValue())\n",
    "    h3[var].SetLineColor(R.kGray+2)\n",
    "    h3[var].SetLineWidth(2)\n",
    "    h3[var].SetMarkerStyle(21)\n",
    "\n",
    "    can  = R.TCanvas('','',1000,1000)\n",
    "    customise_gPad()\n",
    "    pad1 = R.TPad('pad1', '', 0.0, 0.40, 1.0, 1.0)\n",
    "    pad2 = R.TPad('pad2', '', 0.0, 0.00, 1.0, 0.4)\n",
    "    # Margings used for the pads\n",
    "    gpLeft = 0.17\n",
    "    gpRight = 0.05\n",
    "\n",
    "    leg = R.TLegend(0.80,0.90,0.85,0.95)\n",
    "    leg.SetBorderSize(0)\n",
    "    #leg.SetTextSize(0.033)\n",
    "    #leg.SetTextFont(42) # Helvetica\n",
    "    leg.SetTextSize(15)\n",
    "    leg.SetTextFont(43) # Helvetica\n",
    "    leg.SetNColumns(1)\n",
    "    leg.AddEntry(h[\"r21\"][var].GetValue(),\"REL21\",'lf')\n",
    "    leg.AddEntry(h[\"r22\"][var].GetValue(),\"REL22\",'lf')\n",
    "\n",
    "    #-------\n",
    "    # PAD1\n",
    "    #-------\n",
    "    if uselogY:\n",
    "        pad1.SetLogy()\n",
    "    pad1.Draw()\n",
    "    pad1.cd()\n",
    "    customise_gPad(top=0.08, bot=0.04, left=gpLeft, right=gpRight)\n",
    "    can.Draw()\n",
    "    if h[\"r21\"][var].GetMaximum() > h[\"r22\"][var].GetMaximum():\n",
    "        customise_axes(h[\"r21\"][var], xtitle, ytitle, 1.1, IsLogY, enlargeYaxis, scaling) # Need to feed in the one that is drawn first\n",
    "        if uselogY:\n",
    "            h[\"r21\"][var].GetYaxis().SetRangeUser(0.001,h[\"r21\"][var].GetMaximum())\n",
    "            h[\"r22\"][var].GetYaxis().SetRangeUser(0.001,h[\"r21\"][var].GetMaximum())\n",
    "        h[\"r21\"][var].Draw(\"hist\")\n",
    "        h[\"r22\"][var].Draw(\"hist same\")\n",
    "    elif h[\"r21\"][var].GetMaximum() < h[\"r22\"][var].GetMaximum():\n",
    "        customise_axes(h[\"r22\"][var], xtitle, ytitle, 1.1, IsLogY, enlargeYaxis, scaling) \n",
    "        h[\"r21\"][var].GetYaxis().SetRangeUser(0.001,h[\"r22\"][var].GetMaximum())\n",
    "        h[\"r22\"][var].GetYaxis().SetRangeUser(0.001,h[\"r22\"][var].GetMaximum())\n",
    "        h[\"r22\"][var].Draw(\"hist\")\n",
    "        h[\"r21\"][var].Draw(\"hist same\")\n",
    "    \n",
    "\n",
    "    can.cd()\n",
    "\n",
    "    leg.Draw()\n",
    "\n",
    "    pad2.Draw()\n",
    "    pad2.cd()\n",
    "    customise_gPad(top=0.05, bot=0.39, left=gpLeft, right=gpRight)\n",
    "    #customise_gPad(top=0, bot=0.39, left=gpLeft, right=gpRight) # joins upper and lower plot\n",
    "    pad2.SetGridy()\n",
    "    h3[var].Draw(\"ep\")\n",
    "    customise_axes(h3[var], xtitle, \"Ratio\", 1.1, IsLogY, enlargeYaxis, scaling == 'True')\n",
    "    can.SaveAs(\"/mn/felt/u1/eirikgr/talks/SUSYBkgf/%s_%s_%s.png\"%(var,\"scaled\" if scaling else \"noscale\",filepre))"
   ]
  },
  {
   "cell_type": "code",
   "execution_count": null,
   "metadata": {},
   "outputs": [],
   "source": []
  },
  {
   "cell_type": "code",
   "execution_count": null,
   "metadata": {},
   "outputs": [],
   "source": []
  }
 ],
 "metadata": {
  "kernelspec": {
   "display_name": "Python 3 (ipykernel)",
   "language": "python",
   "name": "python3"
  },
  "language_info": {
   "codemirror_mode": {
    "name": "ipython",
    "version": 3
   },
   "file_extension": ".py",
   "mimetype": "text/x-python",
   "name": "python",
   "nbconvert_exporter": "python",
   "pygments_lexer": "ipython3",
   "version": "3.7.4"
  }
 },
 "nbformat": 4,
 "nbformat_minor": 4
}
